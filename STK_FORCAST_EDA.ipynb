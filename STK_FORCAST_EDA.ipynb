{
 "cells": [
  {
   "cell_type": "code",
   "execution_count": 16,
   "metadata": {},
   "outputs": [],
   "source": [
    "# Import library \n",
    "\n",
    "import pandas as pd\n",
    "import numpy as np\n",
    "import matplotlib.pyplot as plt\n"
   ]
  },
  {
   "cell_type": "code",
   "execution_count": 17,
   "metadata": {},
   "outputs": [],
   "source": [
    "\n",
    "# Load the data\n",
    "df_aapl = pd.read_csv('datasets/AAPL.csv')\n",
    "df_amzn = pd.read_csv('datasets/AMZN.csv')\n",
    "df_googl = pd.read_csv('datasets/GOOG.csv')\n",
    "df_msft = pd.read_csv('datasets/MSFT.csv')\n",
    "df_nvda = pd.read_csv('datasets/NVDA.csv')\n"
   ]
  },
  {
   "cell_type": "markdown",
   "metadata": {},
   "source": [
    "Let's look at the dataset in this section - printing each file separately "
   ]
  },
  {
   "cell_type": "markdown",
   "metadata": {},
   "source": [
    "## APPLE"
   ]
  },
  {
   "cell_type": "code",
   "execution_count": 18,
   "metadata": {},
   "outputs": [
    {
     "name": "stdout",
     "output_type": "stream",
     "text": [
      "         Date       Open       High        Low      Close  Adj Close  \\\n",
      "0  2019-07-29  52.115002  52.660000  52.110001  52.419998  50.590397   \n",
      "1  2019-07-30  52.189999  52.540001  51.827499  52.195000  50.373257   \n",
      "2  2019-07-31  54.105000  55.342499  52.825001  53.259998  51.401081   \n",
      "3  2019-08-01  53.474998  54.507500  51.685001  52.107498  50.288803   \n",
      "4  2019-08-02  51.382500  51.607498  50.407501  51.005001  49.224789   \n",
      "\n",
      "      Volume  \n",
      "0   86693600  \n",
      "1  135742800  \n",
      "2  277125600  \n",
      "3  216071600  \n",
      "4  163448400  \n"
     ]
    }
   ],
   "source": [
    "print(df_aapl.head())"
   ]
  },
  {
   "cell_type": "code",
   "execution_count": 19,
   "metadata": {},
   "outputs": [
    {
     "name": "stdout",
     "output_type": "stream",
     "text": [
      "<class 'pandas.core.frame.DataFrame'>\n",
      "RangeIndex: 1259 entries, 0 to 1258\n",
      "Data columns (total 7 columns):\n",
      " #   Column     Non-Null Count  Dtype  \n",
      "---  ------     --------------  -----  \n",
      " 0   Date       1259 non-null   object \n",
      " 1   Open       1259 non-null   float64\n",
      " 2   High       1259 non-null   float64\n",
      " 3   Low        1259 non-null   float64\n",
      " 4   Close      1259 non-null   float64\n",
      " 5   Adj Close  1259 non-null   float64\n",
      " 6   Volume     1259 non-null   int64  \n",
      "dtypes: float64(5), int64(1), object(1)\n",
      "memory usage: 69.0+ KB\n"
     ]
    }
   ],
   "source": [
    "df_aapl.info()"
   ]
  },
  {
   "cell_type": "markdown",
   "metadata": {},
   "source": [
    "## AMAZON"
   ]
  },
  {
   "cell_type": "code",
   "execution_count": 20,
   "metadata": {},
   "outputs": [
    {
     "name": "stdout",
     "output_type": "stream",
     "text": [
      "         Date       Open       High        Low      Close  Adj Close    Volume\n",
      "0  2019-07-29  96.500000  96.611504  94.527000  95.622498  95.622498  89864000\n",
      "1  2019-07-30  94.556000  95.494499  94.174004  94.926498  94.926498  58218000\n",
      "2  2019-07-31  94.905502  94.977501  92.472000  93.338997  93.338997  89414000\n",
      "3  2019-08-01  93.585999  94.896004  92.200500  92.765999  92.765999  94266000\n",
      "4  2019-08-02  92.253502  92.318001  90.401001  91.162003  91.162003  99124000\n"
     ]
    }
   ],
   "source": [
    "print(df_amzn.head())"
   ]
  },
  {
   "cell_type": "code",
   "execution_count": 21,
   "metadata": {},
   "outputs": [
    {
     "name": "stdout",
     "output_type": "stream",
     "text": [
      "<class 'pandas.core.frame.DataFrame'>\n",
      "RangeIndex: 1259 entries, 0 to 1258\n",
      "Data columns (total 7 columns):\n",
      " #   Column     Non-Null Count  Dtype  \n",
      "---  ------     --------------  -----  \n",
      " 0   Date       1259 non-null   object \n",
      " 1   Open       1259 non-null   float64\n",
      " 2   High       1259 non-null   float64\n",
      " 3   Low        1259 non-null   float64\n",
      " 4   Close      1259 non-null   float64\n",
      " 5   Adj Close  1259 non-null   float64\n",
      " 6   Volume     1259 non-null   int64  \n",
      "dtypes: float64(5), int64(1), object(1)\n",
      "memory usage: 69.0+ KB\n"
     ]
    }
   ],
   "source": [
    "df_amzn.info()"
   ]
  },
  {
   "cell_type": "markdown",
   "metadata": {},
   "source": [
    "## GOOGLE"
   ]
  },
  {
   "cell_type": "code",
   "execution_count": 22,
   "metadata": {},
   "outputs": [
    {
     "name": "stdout",
     "output_type": "stream",
     "text": [
      "         Date       Open       High        Low      Close  Adj Close    Volume\n",
      "0  2019-07-29  62.052502  62.368500  61.411499  61.970501  61.900063  44474000\n",
      "1  2019-07-30  61.270500  61.743500  61.165001  61.257000  61.187370  29066000\n",
      "2  2019-07-31  61.150002  61.700001  60.388199  60.834000  60.764851  34510000\n",
      "3  2019-08-01  60.701500  61.705502  60.285999  60.450500  60.381790  33970000\n",
      "4  2019-08-02  60.036999  60.345001  59.446999  59.699501  59.631641  32902000\n"
     ]
    }
   ],
   "source": [
    "print(df_googl.head())"
   ]
  },
  {
   "cell_type": "code",
   "execution_count": 23,
   "metadata": {},
   "outputs": [
    {
     "name": "stdout",
     "output_type": "stream",
     "text": [
      "<class 'pandas.core.frame.DataFrame'>\n",
      "RangeIndex: 1259 entries, 0 to 1258\n",
      "Data columns (total 7 columns):\n",
      " #   Column     Non-Null Count  Dtype  \n",
      "---  ------     --------------  -----  \n",
      " 0   Date       1259 non-null   object \n",
      " 1   Open       1259 non-null   float64\n",
      " 2   High       1259 non-null   float64\n",
      " 3   Low        1259 non-null   float64\n",
      " 4   Close      1259 non-null   float64\n",
      " 5   Adj Close  1259 non-null   float64\n",
      " 6   Volume     1259 non-null   int64  \n",
      "dtypes: float64(5), int64(1), object(1)\n",
      "memory usage: 69.0+ KB\n"
     ]
    }
   ],
   "source": [
    "df_googl.info()"
   ]
  },
  {
   "cell_type": "markdown",
   "metadata": {},
   "source": [
    "## MICROSOFT"
   ]
  },
  {
   "cell_type": "code",
   "execution_count": 24,
   "metadata": {},
   "outputs": [
    {
     "name": "stdout",
     "output_type": "stream",
     "text": [
      "         Date        Open        High         Low       Close   Adj Close  \\\n",
      "0  2019-07-29  141.500000  141.509995  139.369995  141.029999  134.499695   \n",
      "1  2019-07-30  140.139999  141.220001  139.800003  140.350006  133.851181   \n",
      "2  2019-07-31  140.330002  140.490005  135.080002  136.270004  129.960129   \n",
      "3  2019-08-01  137.000000  140.940002  136.929993  138.059998  131.667267   \n",
      "4  2019-08-02  138.089996  138.320007  135.259995  136.899994  130.560989   \n",
      "\n",
      "     Volume  \n",
      "0  16605900  \n",
      "1  16846500  \n",
      "2  38598800  \n",
      "3  40557500  \n",
      "4  30791600  \n"
     ]
    }
   ],
   "source": [
    "\n",
    "print(df_msft.head())"
   ]
  },
  {
   "cell_type": "code",
   "execution_count": 25,
   "metadata": {},
   "outputs": [
    {
     "name": "stdout",
     "output_type": "stream",
     "text": [
      "<class 'pandas.core.frame.DataFrame'>\n",
      "RangeIndex: 1259 entries, 0 to 1258\n",
      "Data columns (total 7 columns):\n",
      " #   Column     Non-Null Count  Dtype  \n",
      "---  ------     --------------  -----  \n",
      " 0   Date       1259 non-null   object \n",
      " 1   Open       1259 non-null   float64\n",
      " 2   High       1259 non-null   float64\n",
      " 3   Low        1259 non-null   float64\n",
      " 4   Close      1259 non-null   float64\n",
      " 5   Adj Close  1259 non-null   float64\n",
      " 6   Volume     1259 non-null   int64  \n",
      "dtypes: float64(5), int64(1), object(1)\n",
      "memory usage: 69.0+ KB\n"
     ]
    }
   ],
   "source": [
    "df_msft.info()"
   ]
  },
  {
   "cell_type": "markdown",
   "metadata": {},
   "source": [
    "## NVDIA"
   ]
  },
  {
   "cell_type": "code",
   "execution_count": 26,
   "metadata": {},
   "outputs": [
    {
     "name": "stdout",
     "output_type": "stream",
     "text": [
      "         Date     Open     High      Low    Close  Adj Close     Volume\n",
      "0  2019-07-29  4.36950  4.38675  4.28175  4.37050   4.345417  248160000\n",
      "1  2019-07-30  4.32375  4.39850  4.30925  4.38625   4.361075  197772000\n",
      "2  2019-07-31  4.35450  4.35550  4.17550  4.21800   4.193791  359416000\n",
      "3  2019-08-01  4.22850  4.31950  4.07050  4.12300   4.099337  421212000\n",
      "4  2019-08-02  4.02975  4.09950  3.98200  4.02975   4.006622  428348000\n"
     ]
    }
   ],
   "source": [
    "print(df_nvda.head())"
   ]
  },
  {
   "cell_type": "code",
   "execution_count": 27,
   "metadata": {},
   "outputs": [
    {
     "name": "stdout",
     "output_type": "stream",
     "text": [
      "<class 'pandas.core.frame.DataFrame'>\n",
      "RangeIndex: 1259 entries, 0 to 1258\n",
      "Data columns (total 7 columns):\n",
      " #   Column     Non-Null Count  Dtype  \n",
      "---  ------     --------------  -----  \n",
      " 0   Date       1259 non-null   object \n",
      " 1   Open       1259 non-null   float64\n",
      " 2   High       1259 non-null   float64\n",
      " 3   Low        1259 non-null   float64\n",
      " 4   Close      1259 non-null   float64\n",
      " 5   Adj Close  1259 non-null   float64\n",
      " 6   Volume     1259 non-null   int64  \n",
      "dtypes: float64(5), int64(1), object(1)\n",
      "memory usage: 69.0+ KB\n"
     ]
    }
   ],
   "source": [
    "df_nvda.info()"
   ]
  },
  {
   "cell_type": "markdown",
   "metadata": {},
   "source": []
  }
 ],
 "metadata": {
  "kernelspec": {
   "display_name": ".venv",
   "language": "python",
   "name": "python3"
  },
  "language_info": {
   "codemirror_mode": {
    "name": "ipython",
    "version": 3
   },
   "file_extension": ".py",
   "mimetype": "text/x-python",
   "name": "python",
   "nbconvert_exporter": "python",
   "pygments_lexer": "ipython3",
   "version": "3.12.1"
  }
 },
 "nbformat": 4,
 "nbformat_minor": 2
}
